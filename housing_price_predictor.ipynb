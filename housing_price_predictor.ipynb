{
 "cells": [
  {
   "cell_type": "code",
   "execution_count": 1,
   "metadata": {},
   "outputs": [],
   "source": [
    "import numpy as np\n",
    "import pandas as pd\n",
    "import matplotlib.pyplot as plt\n",
    "from sklearn.linear_model import LinearRegression, Lasso, Ridge, ElasticNet\n",
    "from sklearn.preprocessing import LabelEncoder, OrdinalEncoder, StandardScaler, PolynomialFeatures\n",
    "from sklearn.metrics import r2_score, mean_squared_error\n",
    "from sklearn.decomposition import PCA\n",
    "from sklearn.model_selection import train_test_split, KFold, cross_val_score\n",
    "from sklearn.pipeline import make_pipeline\n",
    "from scipy.stats import skew\n",
    "import seaborn as sns\n"
   ]
  },
  {
   "cell_type": "code",
   "execution_count": 2,
   "metadata": {},
   "outputs": [
    {
     "data": {
      "text/html": [
       "<div>\n",
       "<style scoped>\n",
       "    .dataframe tbody tr th:only-of-type {\n",
       "        vertical-align: middle;\n",
       "    }\n",
       "\n",
       "    .dataframe tbody tr th {\n",
       "        vertical-align: top;\n",
       "    }\n",
       "\n",
       "    .dataframe thead th {\n",
       "        text-align: right;\n",
       "    }\n",
       "</style>\n",
       "<table border=\"1\" class=\"dataframe\">\n",
       "  <thead>\n",
       "    <tr style=\"text-align: right;\">\n",
       "      <th></th>\n",
       "      <th>price</th>\n",
       "      <th>area</th>\n",
       "      <th>bedrooms</th>\n",
       "      <th>bathrooms</th>\n",
       "      <th>stories</th>\n",
       "      <th>mainroad</th>\n",
       "      <th>guestroom</th>\n",
       "      <th>basement</th>\n",
       "      <th>hotwaterheating</th>\n",
       "      <th>airconditioning</th>\n",
       "      <th>parking</th>\n",
       "      <th>prefarea</th>\n",
       "      <th>furnishingstatus</th>\n",
       "    </tr>\n",
       "  </thead>\n",
       "  <tbody>\n",
       "    <tr>\n",
       "      <th>0</th>\n",
       "      <td>13300000</td>\n",
       "      <td>7420</td>\n",
       "      <td>4</td>\n",
       "      <td>2</td>\n",
       "      <td>3</td>\n",
       "      <td>yes</td>\n",
       "      <td>no</td>\n",
       "      <td>no</td>\n",
       "      <td>no</td>\n",
       "      <td>yes</td>\n",
       "      <td>2</td>\n",
       "      <td>yes</td>\n",
       "      <td>furnished</td>\n",
       "    </tr>\n",
       "    <tr>\n",
       "      <th>1</th>\n",
       "      <td>12250000</td>\n",
       "      <td>8960</td>\n",
       "      <td>4</td>\n",
       "      <td>4</td>\n",
       "      <td>4</td>\n",
       "      <td>yes</td>\n",
       "      <td>no</td>\n",
       "      <td>no</td>\n",
       "      <td>no</td>\n",
       "      <td>yes</td>\n",
       "      <td>3</td>\n",
       "      <td>no</td>\n",
       "      <td>furnished</td>\n",
       "    </tr>\n",
       "    <tr>\n",
       "      <th>2</th>\n",
       "      <td>12250000</td>\n",
       "      <td>9960</td>\n",
       "      <td>3</td>\n",
       "      <td>2</td>\n",
       "      <td>2</td>\n",
       "      <td>yes</td>\n",
       "      <td>no</td>\n",
       "      <td>yes</td>\n",
       "      <td>no</td>\n",
       "      <td>no</td>\n",
       "      <td>2</td>\n",
       "      <td>yes</td>\n",
       "      <td>semi-furnished</td>\n",
       "    </tr>\n",
       "    <tr>\n",
       "      <th>3</th>\n",
       "      <td>12215000</td>\n",
       "      <td>7500</td>\n",
       "      <td>4</td>\n",
       "      <td>2</td>\n",
       "      <td>2</td>\n",
       "      <td>yes</td>\n",
       "      <td>no</td>\n",
       "      <td>yes</td>\n",
       "      <td>no</td>\n",
       "      <td>yes</td>\n",
       "      <td>3</td>\n",
       "      <td>yes</td>\n",
       "      <td>furnished</td>\n",
       "    </tr>\n",
       "    <tr>\n",
       "      <th>4</th>\n",
       "      <td>11410000</td>\n",
       "      <td>7420</td>\n",
       "      <td>4</td>\n",
       "      <td>1</td>\n",
       "      <td>2</td>\n",
       "      <td>yes</td>\n",
       "      <td>yes</td>\n",
       "      <td>yes</td>\n",
       "      <td>no</td>\n",
       "      <td>yes</td>\n",
       "      <td>2</td>\n",
       "      <td>no</td>\n",
       "      <td>furnished</td>\n",
       "    </tr>\n",
       "  </tbody>\n",
       "</table>\n",
       "</div>"
      ],
      "text/plain": [
       "      price  area  bedrooms  bathrooms  stories mainroad guestroom basement  \\\n",
       "0  13300000  7420         4          2        3      yes        no       no   \n",
       "1  12250000  8960         4          4        4      yes        no       no   \n",
       "2  12250000  9960         3          2        2      yes        no      yes   \n",
       "3  12215000  7500         4          2        2      yes        no      yes   \n",
       "4  11410000  7420         4          1        2      yes       yes      yes   \n",
       "\n",
       "  hotwaterheating airconditioning  parking prefarea furnishingstatus  \n",
       "0              no             yes        2      yes        furnished  \n",
       "1              no             yes        3       no        furnished  \n",
       "2              no              no        2      yes   semi-furnished  \n",
       "3              no             yes        3      yes        furnished  \n",
       "4              no             yes        2       no        furnished  "
      ]
     },
     "execution_count": 2,
     "metadata": {},
     "output_type": "execute_result"
    }
   ],
   "source": [
    "raw_data = pd.read_csv('Housing.csv')\n",
    "data = raw_data.copy()\n",
    "raw_data.head()"
   ]
  },
  {
   "cell_type": "code",
   "execution_count": 3,
   "metadata": {},
   "outputs": [
    {
     "data": {
      "text/html": [
       "<div>\n",
       "<style scoped>\n",
       "    .dataframe tbody tr th:only-of-type {\n",
       "        vertical-align: middle;\n",
       "    }\n",
       "\n",
       "    .dataframe tbody tr th {\n",
       "        vertical-align: top;\n",
       "    }\n",
       "\n",
       "    .dataframe thead th {\n",
       "        text-align: right;\n",
       "    }\n",
       "</style>\n",
       "<table border=\"1\" class=\"dataframe\">\n",
       "  <thead>\n",
       "    <tr style=\"text-align: right;\">\n",
       "      <th></th>\n",
       "      <th>price</th>\n",
       "      <th>area</th>\n",
       "      <th>bedrooms</th>\n",
       "      <th>bathrooms</th>\n",
       "      <th>stories</th>\n",
       "      <th>mainroad</th>\n",
       "      <th>guestroom</th>\n",
       "      <th>basement</th>\n",
       "      <th>hotwaterheating</th>\n",
       "      <th>airconditioning</th>\n",
       "      <th>parking</th>\n",
       "      <th>prefarea</th>\n",
       "      <th>furnishingstatus</th>\n",
       "    </tr>\n",
       "  </thead>\n",
       "  <tbody>\n",
       "    <tr>\n",
       "      <th>0</th>\n",
       "      <td>13300000</td>\n",
       "      <td>7420</td>\n",
       "      <td>4</td>\n",
       "      <td>2</td>\n",
       "      <td>3</td>\n",
       "      <td>yes</td>\n",
       "      <td>no</td>\n",
       "      <td>no</td>\n",
       "      <td>no</td>\n",
       "      <td>yes</td>\n",
       "      <td>2</td>\n",
       "      <td>yes</td>\n",
       "      <td>furnished</td>\n",
       "    </tr>\n",
       "    <tr>\n",
       "      <th>1</th>\n",
       "      <td>12250000</td>\n",
       "      <td>8960</td>\n",
       "      <td>4</td>\n",
       "      <td>4</td>\n",
       "      <td>4</td>\n",
       "      <td>yes</td>\n",
       "      <td>no</td>\n",
       "      <td>no</td>\n",
       "      <td>no</td>\n",
       "      <td>yes</td>\n",
       "      <td>3</td>\n",
       "      <td>no</td>\n",
       "      <td>furnished</td>\n",
       "    </tr>\n",
       "    <tr>\n",
       "      <th>2</th>\n",
       "      <td>12250000</td>\n",
       "      <td>9960</td>\n",
       "      <td>3</td>\n",
       "      <td>2</td>\n",
       "      <td>2</td>\n",
       "      <td>yes</td>\n",
       "      <td>no</td>\n",
       "      <td>yes</td>\n",
       "      <td>no</td>\n",
       "      <td>no</td>\n",
       "      <td>2</td>\n",
       "      <td>yes</td>\n",
       "      <td>semi-furnished</td>\n",
       "    </tr>\n",
       "    <tr>\n",
       "      <th>3</th>\n",
       "      <td>12215000</td>\n",
       "      <td>7500</td>\n",
       "      <td>4</td>\n",
       "      <td>2</td>\n",
       "      <td>2</td>\n",
       "      <td>yes</td>\n",
       "      <td>no</td>\n",
       "      <td>yes</td>\n",
       "      <td>no</td>\n",
       "      <td>yes</td>\n",
       "      <td>3</td>\n",
       "      <td>yes</td>\n",
       "      <td>furnished</td>\n",
       "    </tr>\n",
       "    <tr>\n",
       "      <th>4</th>\n",
       "      <td>11410000</td>\n",
       "      <td>7420</td>\n",
       "      <td>4</td>\n",
       "      <td>1</td>\n",
       "      <td>2</td>\n",
       "      <td>yes</td>\n",
       "      <td>yes</td>\n",
       "      <td>yes</td>\n",
       "      <td>no</td>\n",
       "      <td>yes</td>\n",
       "      <td>2</td>\n",
       "      <td>no</td>\n",
       "      <td>furnished</td>\n",
       "    </tr>\n",
       "    <tr>\n",
       "      <th>...</th>\n",
       "      <td>...</td>\n",
       "      <td>...</td>\n",
       "      <td>...</td>\n",
       "      <td>...</td>\n",
       "      <td>...</td>\n",
       "      <td>...</td>\n",
       "      <td>...</td>\n",
       "      <td>...</td>\n",
       "      <td>...</td>\n",
       "      <td>...</td>\n",
       "      <td>...</td>\n",
       "      <td>...</td>\n",
       "      <td>...</td>\n",
       "    </tr>\n",
       "    <tr>\n",
       "      <th>540</th>\n",
       "      <td>1820000</td>\n",
       "      <td>3000</td>\n",
       "      <td>2</td>\n",
       "      <td>1</td>\n",
       "      <td>1</td>\n",
       "      <td>yes</td>\n",
       "      <td>no</td>\n",
       "      <td>yes</td>\n",
       "      <td>no</td>\n",
       "      <td>no</td>\n",
       "      <td>2</td>\n",
       "      <td>no</td>\n",
       "      <td>unfurnished</td>\n",
       "    </tr>\n",
       "    <tr>\n",
       "      <th>541</th>\n",
       "      <td>1767150</td>\n",
       "      <td>2400</td>\n",
       "      <td>3</td>\n",
       "      <td>1</td>\n",
       "      <td>1</td>\n",
       "      <td>no</td>\n",
       "      <td>no</td>\n",
       "      <td>no</td>\n",
       "      <td>no</td>\n",
       "      <td>no</td>\n",
       "      <td>0</td>\n",
       "      <td>no</td>\n",
       "      <td>semi-furnished</td>\n",
       "    </tr>\n",
       "    <tr>\n",
       "      <th>542</th>\n",
       "      <td>1750000</td>\n",
       "      <td>3620</td>\n",
       "      <td>2</td>\n",
       "      <td>1</td>\n",
       "      <td>1</td>\n",
       "      <td>yes</td>\n",
       "      <td>no</td>\n",
       "      <td>no</td>\n",
       "      <td>no</td>\n",
       "      <td>no</td>\n",
       "      <td>0</td>\n",
       "      <td>no</td>\n",
       "      <td>unfurnished</td>\n",
       "    </tr>\n",
       "    <tr>\n",
       "      <th>543</th>\n",
       "      <td>1750000</td>\n",
       "      <td>2910</td>\n",
       "      <td>3</td>\n",
       "      <td>1</td>\n",
       "      <td>1</td>\n",
       "      <td>no</td>\n",
       "      <td>no</td>\n",
       "      <td>no</td>\n",
       "      <td>no</td>\n",
       "      <td>no</td>\n",
       "      <td>0</td>\n",
       "      <td>no</td>\n",
       "      <td>furnished</td>\n",
       "    </tr>\n",
       "    <tr>\n",
       "      <th>544</th>\n",
       "      <td>1750000</td>\n",
       "      <td>3850</td>\n",
       "      <td>3</td>\n",
       "      <td>1</td>\n",
       "      <td>2</td>\n",
       "      <td>yes</td>\n",
       "      <td>no</td>\n",
       "      <td>no</td>\n",
       "      <td>no</td>\n",
       "      <td>no</td>\n",
       "      <td>0</td>\n",
       "      <td>no</td>\n",
       "      <td>unfurnished</td>\n",
       "    </tr>\n",
       "  </tbody>\n",
       "</table>\n",
       "<p>545 rows × 13 columns</p>\n",
       "</div>"
      ],
      "text/plain": [
       "        price  area  bedrooms  bathrooms  stories mainroad guestroom basement  \\\n",
       "0    13300000  7420         4          2        3      yes        no       no   \n",
       "1    12250000  8960         4          4        4      yes        no       no   \n",
       "2    12250000  9960         3          2        2      yes        no      yes   \n",
       "3    12215000  7500         4          2        2      yes        no      yes   \n",
       "4    11410000  7420         4          1        2      yes       yes      yes   \n",
       "..        ...   ...       ...        ...      ...      ...       ...      ...   \n",
       "540   1820000  3000         2          1        1      yes        no      yes   \n",
       "541   1767150  2400         3          1        1       no        no       no   \n",
       "542   1750000  3620         2          1        1      yes        no       no   \n",
       "543   1750000  2910         3          1        1       no        no       no   \n",
       "544   1750000  3850         3          1        2      yes        no       no   \n",
       "\n",
       "    hotwaterheating airconditioning  parking prefarea furnishingstatus  \n",
       "0                no             yes        2      yes        furnished  \n",
       "1                no             yes        3       no        furnished  \n",
       "2                no              no        2      yes   semi-furnished  \n",
       "3                no             yes        3      yes        furnished  \n",
       "4                no             yes        2       no        furnished  \n",
       "..              ...             ...      ...      ...              ...  \n",
       "540              no              no        2       no      unfurnished  \n",
       "541              no              no        0       no   semi-furnished  \n",
       "542              no              no        0       no      unfurnished  \n",
       "543              no              no        0       no        furnished  \n",
       "544              no              no        0       no      unfurnished  \n",
       "\n",
       "[545 rows x 13 columns]"
      ]
     },
     "execution_count": 3,
     "metadata": {},
     "output_type": "execute_result"
    }
   ],
   "source": [
    "raw_data"
   ]
  },
  {
   "cell_type": "code",
   "execution_count": 4,
   "metadata": {},
   "outputs": [
    {
     "data": {
      "text/html": [
       "<div>\n",
       "<style scoped>\n",
       "    .dataframe tbody tr th:only-of-type {\n",
       "        vertical-align: middle;\n",
       "    }\n",
       "\n",
       "    .dataframe tbody tr th {\n",
       "        vertical-align: top;\n",
       "    }\n",
       "\n",
       "    .dataframe thead th {\n",
       "        text-align: right;\n",
       "    }\n",
       "</style>\n",
       "<table border=\"1\" class=\"dataframe\">\n",
       "  <thead>\n",
       "    <tr style=\"text-align: right;\">\n",
       "      <th></th>\n",
       "      <th>price</th>\n",
       "      <th>area</th>\n",
       "      <th>bedrooms</th>\n",
       "      <th>bathrooms</th>\n",
       "      <th>stories</th>\n",
       "      <th>parking</th>\n",
       "    </tr>\n",
       "  </thead>\n",
       "  <tbody>\n",
       "    <tr>\n",
       "      <th>count</th>\n",
       "      <td>5.450000e+02</td>\n",
       "      <td>545.000000</td>\n",
       "      <td>545.000000</td>\n",
       "      <td>545.000000</td>\n",
       "      <td>545.000000</td>\n",
       "      <td>545.000000</td>\n",
       "    </tr>\n",
       "    <tr>\n",
       "      <th>mean</th>\n",
       "      <td>4.766729e+06</td>\n",
       "      <td>5150.541284</td>\n",
       "      <td>2.965138</td>\n",
       "      <td>1.286239</td>\n",
       "      <td>1.805505</td>\n",
       "      <td>0.693578</td>\n",
       "    </tr>\n",
       "    <tr>\n",
       "      <th>std</th>\n",
       "      <td>1.870440e+06</td>\n",
       "      <td>2170.141023</td>\n",
       "      <td>0.738064</td>\n",
       "      <td>0.502470</td>\n",
       "      <td>0.867492</td>\n",
       "      <td>0.861586</td>\n",
       "    </tr>\n",
       "    <tr>\n",
       "      <th>min</th>\n",
       "      <td>1.750000e+06</td>\n",
       "      <td>1650.000000</td>\n",
       "      <td>1.000000</td>\n",
       "      <td>1.000000</td>\n",
       "      <td>1.000000</td>\n",
       "      <td>0.000000</td>\n",
       "    </tr>\n",
       "    <tr>\n",
       "      <th>25%</th>\n",
       "      <td>3.430000e+06</td>\n",
       "      <td>3600.000000</td>\n",
       "      <td>2.000000</td>\n",
       "      <td>1.000000</td>\n",
       "      <td>1.000000</td>\n",
       "      <td>0.000000</td>\n",
       "    </tr>\n",
       "    <tr>\n",
       "      <th>50%</th>\n",
       "      <td>4.340000e+06</td>\n",
       "      <td>4600.000000</td>\n",
       "      <td>3.000000</td>\n",
       "      <td>1.000000</td>\n",
       "      <td>2.000000</td>\n",
       "      <td>0.000000</td>\n",
       "    </tr>\n",
       "    <tr>\n",
       "      <th>75%</th>\n",
       "      <td>5.740000e+06</td>\n",
       "      <td>6360.000000</td>\n",
       "      <td>3.000000</td>\n",
       "      <td>2.000000</td>\n",
       "      <td>2.000000</td>\n",
       "      <td>1.000000</td>\n",
       "    </tr>\n",
       "    <tr>\n",
       "      <th>max</th>\n",
       "      <td>1.330000e+07</td>\n",
       "      <td>16200.000000</td>\n",
       "      <td>6.000000</td>\n",
       "      <td>4.000000</td>\n",
       "      <td>4.000000</td>\n",
       "      <td>3.000000</td>\n",
       "    </tr>\n",
       "  </tbody>\n",
       "</table>\n",
       "</div>"
      ],
      "text/plain": [
       "              price          area    bedrooms   bathrooms     stories  \\\n",
       "count  5.450000e+02    545.000000  545.000000  545.000000  545.000000   \n",
       "mean   4.766729e+06   5150.541284    2.965138    1.286239    1.805505   \n",
       "std    1.870440e+06   2170.141023    0.738064    0.502470    0.867492   \n",
       "min    1.750000e+06   1650.000000    1.000000    1.000000    1.000000   \n",
       "25%    3.430000e+06   3600.000000    2.000000    1.000000    1.000000   \n",
       "50%    4.340000e+06   4600.000000    3.000000    1.000000    2.000000   \n",
       "75%    5.740000e+06   6360.000000    3.000000    2.000000    2.000000   \n",
       "max    1.330000e+07  16200.000000    6.000000    4.000000    4.000000   \n",
       "\n",
       "          parking  \n",
       "count  545.000000  \n",
       "mean     0.693578  \n",
       "std      0.861586  \n",
       "min      0.000000  \n",
       "25%      0.000000  \n",
       "50%      0.000000  \n",
       "75%      1.000000  \n",
       "max      3.000000  "
      ]
     },
     "execution_count": 4,
     "metadata": {},
     "output_type": "execute_result"
    }
   ],
   "source": [
    "raw_data.describe()"
   ]
  },
  {
   "cell_type": "code",
   "execution_count": 5,
   "metadata": {},
   "outputs": [
    {
     "data": {
      "text/plain": [
       "price                int64\n",
       "area                 int64\n",
       "bedrooms             int64\n",
       "bathrooms            int64\n",
       "stories              int64\n",
       "mainroad            object\n",
       "guestroom           object\n",
       "basement            object\n",
       "hotwaterheating     object\n",
       "airconditioning     object\n",
       "parking              int64\n",
       "prefarea            object\n",
       "furnishingstatus    object\n",
       "dtype: object"
      ]
     },
     "execution_count": 5,
     "metadata": {},
     "output_type": "execute_result"
    }
   ],
   "source": [
    "data.dtypes"
   ]
  },
  {
   "cell_type": "code",
   "execution_count": 6,
   "metadata": {},
   "outputs": [
    {
     "data": {
      "image/png": "[encoded data removed]",
      "text/plain": [
       "<Figure size 640x480 with 6 Axes>"
      ]
     },
     "metadata": {},
     "output_type": "display_data"
    }
   ],
   "source": [
    "plt.subplot(2,3,1)\n",
    "plt.hist(data['price'], bins=20, color='blue', edgecolor='black')\n",
    "plt.xlabel('Price')\n",
    "\n",
    "plt.subplot(2,3,2)\n",
    "plt.hist(data['area'], bins=20, color='blue', edgecolor='black')\n",
    "plt.xlabel('Area')\n",
    "\n",
    "plt.subplot(2,3,3)\n",
    "plt.hist(data['bedrooms'], bins=5, color='blue', edgecolor='black')\n",
    "plt.xlabel('bedrooms')\n",
    "\n",
    "plt.subplot(2,3,4)\n",
    "plt.hist(data['bathrooms'], bins=5, color='blue', edgecolor='black')\n",
    "plt.xlabel('bathrooms')\n",
    "\n",
    "plt.subplot(2,3,5)\n",
    "plt.hist(data['stories'], bins=5, color='blue', edgecolor='black')\n",
    "plt.xlabel('stories')\n",
    "\n",
    "plt.subplot(2,3,6)\n",
    "plt.hist(data['mainroad'], bins=2, color='blue', edgecolor='black')\n",
    "plt.xlabel('mainroad')\n",
    "\n",
    "plt.show()"
   ]
  },
  {
   "cell_type": "code",
   "execution_count": 7,
   "metadata": {},
   "outputs": [],
   "source": [
    "#function to remove outliers based on IQR method. \n",
    "# def remove_outliers_iqr(df, columns):\n",
    "#     \"\"\"\n",
    "#     Remove outliers using Interquartile Range (IQR) method\n",
    "    \n",
    "#     Parameters:\n",
    "#     df (pandas.DataFrame): Input dataframe\n",
    "#     columns (list): Columns to check for outliers\n",
    "    \n",
    "#     Returns:\n",
    "#     pandas.DataFrame: Dataframe with outliers removed\n",
    "#     \"\"\"\n",
    "#     df_cleaned = df.copy()\n",
    "#     for col in columns:\n",
    "#         Q1 = df[col].quantile(0.25)\n",
    "#         Q3 = df[col].quantile(0.75)\n",
    "#         IQR = Q3 - Q1\n",
    "#         lower_bound = Q1 - 1.5 * IQR\n",
    "#         upper_bound = Q3 + 1.5 * IQR\n",
    "        \n",
    "#         df_cleaned = df_cleaned[\n",
    "#             (df_cleaned[col] >= lower_bound) & \n",
    "#             (df_cleaned[col] <= upper_bound)\n",
    "#         ]\n",
    "    \n",
    "#     return df_cleaned"
   ]
  },
  {
   "cell_type": "code",
   "execution_count": 8,
   "metadata": {},
   "outputs": [],
   "source": [
    "# #removing outliers\n",
    "# columns = ['price', 'area']\n",
    "# data = remove_outliers_iqr(data, columns)\n",
    "# data"
   ]
  },
  {
   "cell_type": "code",
   "execution_count": 9,
   "metadata": {},
   "outputs": [],
   "source": [
    "# df_all = pd.concat([data, raw_data]).drop_duplicates(keep=False)\n",
    "# df_all\n"
   ]
  },
  {
   "cell_type": "code",
   "execution_count": 10,
   "metadata": {},
   "outputs": [
    {
     "name": "stdout",
     "output_type": "stream",
     "text": [
      "Price Skewness: 1.2088998457878217\n",
      "Area Skewness: 1.3175492613408553\n"
     ]
    }
   ],
   "source": [
    "# investigating Skewness:\n",
    "skewness_price = skew(data['price'])\n",
    "skewness_are = skew(data['area'])\n",
    "\n",
    "print(f\"Price Skewness: {skewness_price}\")\n",
    "print(f\"Area Skewness: {skewness_are}\")"
   ]
  },
  {
   "cell_type": "code",
   "execution_count": 11,
   "metadata": {},
   "outputs": [],
   "source": [
    "# fixing skewness by log transformation\n",
    "data['price'] = np.log(data['price'])\n",
    "data['area'] = np.log(data['area'])"
   ]
  },
  {
   "cell_type": "code",
   "execution_count": 12,
   "metadata": {},
   "outputs": [],
   "source": [
    "# fixing skewness by SQRT transformation\n",
    "# data['price'] = np.sqrt(data['price'])\n",
    "# data['area'] = np.sqrt(data['area'])\n"
   ]
  },
  {
   "cell_type": "code",
   "execution_count": 13,
   "metadata": {},
   "outputs": [],
   "source": [
    "# # fixing skewness by CBRT transformation\n",
    "# data['price'] = np.cbrt(data['price'])\n",
    "# data['area'] = np.cbrt(data['area'])\n"
   ]
  },
  {
   "cell_type": "code",
   "execution_count": 14,
   "metadata": {},
   "outputs": [],
   "source": [
    "# # fixing skewness by Yeo-Johnson Transformation\n",
    "# pt = PowerTransformer(method='yeo-johnson')\n",
    "# data['price'] = pt.fit_transform(data[['price']])\n",
    "# data['area'] = pt.fit_transform(data[['area']])"
   ]
  },
  {
   "cell_type": "code",
   "execution_count": 15,
   "metadata": {},
   "outputs": [
    {
     "name": "stdout",
     "output_type": "stream",
     "text": [
      "price: 0\n",
      "area: 0\n",
      "bedrooms: 0\n",
      "bathrooms: 0\n",
      "stories: 0\n",
      "mainroad: 0\n",
      "guestroom: 0\n",
      "basement: 0\n",
      "hotwaterheating: 0\n",
      "airconditioning: 0\n",
      "parking: 0\n",
      "prefarea: 0\n",
      "furnishingstatus: 0\n"
     ]
    }
   ],
   "source": [
    "for col in data.columns:\n",
    "    print(f'{col}:', data[col].isnull().sum())"
   ]
  },
  {
   "cell_type": "code",
   "execution_count": 16,
   "metadata": {},
   "outputs": [
    {
     "data": {
      "text/html": [
       "<div>\n",
       "<style scoped>\n",
       "    .dataframe tbody tr th:only-of-type {\n",
       "        vertical-align: middle;\n",
       "    }\n",
       "\n",
       "    .dataframe tbody tr th {\n",
       "        vertical-align: top;\n",
       "    }\n",
       "\n",
       "    .dataframe thead th {\n",
       "        text-align: right;\n",
       "    }\n",
       "</style>\n",
       "<table border=\"1\" class=\"dataframe\">\n",
       "  <thead>\n",
       "    <tr style=\"text-align: right;\">\n",
       "      <th></th>\n",
       "      <th>price</th>\n",
       "      <th>area</th>\n",
       "      <th>bedrooms</th>\n",
       "      <th>bathrooms</th>\n",
       "      <th>stories</th>\n",
       "      <th>mainroad</th>\n",
       "      <th>guestroom</th>\n",
       "      <th>basement</th>\n",
       "      <th>hotwaterheating</th>\n",
       "      <th>airconditioning</th>\n",
       "      <th>parking</th>\n",
       "      <th>prefarea</th>\n",
       "      <th>furnishingstatus</th>\n",
       "    </tr>\n",
       "  </thead>\n",
       "  <tbody>\n",
       "    <tr>\n",
       "      <th>0</th>\n",
       "      <td>16.403275</td>\n",
       "      <td>8.911934</td>\n",
       "      <td>4</td>\n",
       "      <td>2</td>\n",
       "      <td>3</td>\n",
       "      <td>1</td>\n",
       "      <td>0</td>\n",
       "      <td>0</td>\n",
       "      <td>0</td>\n",
       "      <td>1</td>\n",
       "      <td>2</td>\n",
       "      <td>1</td>\n",
       "      <td>2.0</td>\n",
       "    </tr>\n",
       "    <tr>\n",
       "      <th>1</th>\n",
       "      <td>16.321036</td>\n",
       "      <td>9.100526</td>\n",
       "      <td>4</td>\n",
       "      <td>4</td>\n",
       "      <td>4</td>\n",
       "      <td>1</td>\n",
       "      <td>0</td>\n",
       "      <td>0</td>\n",
       "      <td>0</td>\n",
       "      <td>1</td>\n",
       "      <td>3</td>\n",
       "      <td>0</td>\n",
       "      <td>2.0</td>\n",
       "    </tr>\n",
       "    <tr>\n",
       "      <th>2</th>\n",
       "      <td>16.321036</td>\n",
       "      <td>9.206332</td>\n",
       "      <td>3</td>\n",
       "      <td>2</td>\n",
       "      <td>2</td>\n",
       "      <td>1</td>\n",
       "      <td>0</td>\n",
       "      <td>1</td>\n",
       "      <td>0</td>\n",
       "      <td>0</td>\n",
       "      <td>2</td>\n",
       "      <td>1</td>\n",
       "      <td>1.0</td>\n",
       "    </tr>\n",
       "    <tr>\n",
       "      <th>3</th>\n",
       "      <td>16.318175</td>\n",
       "      <td>8.922658</td>\n",
       "      <td>4</td>\n",
       "      <td>2</td>\n",
       "      <td>2</td>\n",
       "      <td>1</td>\n",
       "      <td>0</td>\n",
       "      <td>1</td>\n",
       "      <td>0</td>\n",
       "      <td>1</td>\n",
       "      <td>3</td>\n",
       "      <td>1</td>\n",
       "      <td>2.0</td>\n",
       "    </tr>\n",
       "    <tr>\n",
       "      <th>4</th>\n",
       "      <td>16.250001</td>\n",
       "      <td>8.911934</td>\n",
       "      <td>4</td>\n",
       "      <td>1</td>\n",
       "      <td>2</td>\n",
       "      <td>1</td>\n",
       "      <td>1</td>\n",
       "      <td>1</td>\n",
       "      <td>0</td>\n",
       "      <td>1</td>\n",
       "      <td>2</td>\n",
       "      <td>0</td>\n",
       "      <td>2.0</td>\n",
       "    </tr>\n",
       "  </tbody>\n",
       "</table>\n",
       "</div>"
      ],
      "text/plain": [
       "       price      area  bedrooms  bathrooms  stories  mainroad  guestroom  \\\n",
       "0  16.403275  8.911934         4          2        3         1          0   \n",
       "1  16.321036  9.100526         4          4        4         1          0   \n",
       "2  16.321036  9.206332         3          2        2         1          0   \n",
       "3  16.318175  8.922658         4          2        2         1          0   \n",
       "4  16.250001  8.911934         4          1        2         1          1   \n",
       "\n",
       "   basement  hotwaterheating  airconditioning  parking  prefarea  \\\n",
       "0         0                0                1        2         1   \n",
       "1         0                0                1        3         0   \n",
       "2         1                0                0        2         1   \n",
       "3         1                0                1        3         1   \n",
       "4         1                0                1        2         0   \n",
       "\n",
       "   furnishingstatus  \n",
       "0               2.0  \n",
       "1               2.0  \n",
       "2               1.0  \n",
       "3               2.0  \n",
       "4               2.0  "
      ]
     },
     "execution_count": 16,
     "metadata": {},
     "output_type": "execute_result"
    }
   ],
   "source": [
    "# encoding the categorical variables\n",
    "#encodign binary columns\n",
    "label_encoder = LabelEncoder()\n",
    "\n",
    "binary_cols = ['mainroad', 'guestroom', 'basement', 'hotwaterheating', 'airconditioning', 'prefarea']\n",
    "\n",
    "df = data.copy()\n",
    "\n",
    "for col in binary_cols:\n",
    "    df[col] = label_encoder.fit_transform(df[col])\n",
    "    \n",
    "# encoding furnishingstatus via one-hot encoding\n",
    "#df = pd.get_dummies(df, columns=['furnishingstatus'], drop_first=False)\n",
    "# for col in df.columns:\n",
    "#     if 'furnishingstatus' in col:\n",
    "#         df[col] = df[col].astype('int64')\n",
    "# df\n",
    "\n",
    "# encoding furnishingstatus via ordinal encoding\n",
    "categories = [['unfurnished', 'semi-furnished', 'furnished']] \n",
    "encoder = OrdinalEncoder(categories=categories)\n",
    "df['furnishingstatus'] = encoder.fit_transform(df[['furnishingstatus']])\n",
    "df.head()\n",
    "\n"
   ]
  },
  {
   "cell_type": "code",
   "execution_count": 17,
   "metadata": {},
   "outputs": [
    {
     "data": {
      "image/png": "[encoded data removed]",
      "text/plain": [
       "<Figure size 800x600 with 2 Axes>"
      ]
     },
     "metadata": {},
     "output_type": "display_data"
    },
    {
     "name": "stdout",
     "output_type": "stream",
     "text": [
      "                      area  bedrooms  bathrooms   stories  mainroad  \\\n",
      "area              1.000000  0.150460   0.202610  0.108145  0.331604   \n",
      "bedrooms          0.150460  1.000000   0.373930  0.408564 -0.012033   \n",
      "bathrooms         0.202610  0.373930   1.000000  0.326165  0.042398   \n",
      "stories           0.108145  0.408564   0.326165  1.000000  0.121706   \n",
      "mainroad          0.331604 -0.012033   0.042398  0.121706  1.000000   \n",
      "guestroom         0.180190  0.080549   0.126469  0.043538  0.092337   \n",
      "basement          0.043305  0.097312   0.102106 -0.172394  0.044002   \n",
      "hotwaterheating  -0.013725  0.046049   0.067159  0.018847 -0.011781   \n",
      "airconditioning   0.262423  0.160603   0.186915  0.293602  0.105423   \n",
      "parking           0.360774  0.139270   0.177496  0.045547  0.204433   \n",
      "prefarea          0.219706  0.079023   0.063472  0.044425  0.199876   \n",
      "furnishingstatus  0.167420  0.123244   0.143559  0.104672  0.156726   \n",
      "\n",
      "                  guestroom  basement  hotwaterheating  airconditioning  \\\n",
      "area               0.180190  0.043305        -0.013725         0.262423   \n",
      "bedrooms           0.080549  0.097312         0.046049         0.160603   \n",
      "bathrooms          0.126469  0.102106         0.067159         0.186915   \n",
      "stories            0.043538 -0.172394         0.018847         0.293602   \n",
      "mainroad           0.092337  0.044002        -0.011781         0.105423   \n",
      "guestroom          1.000000  0.372066        -0.010308         0.138179   \n",
      "basement           0.372066  1.000000         0.004385         0.047341   \n",
      "hotwaterheating   -0.010308  0.004385         1.000000        -0.130023   \n",
      "airconditioning    0.138179  0.047341        -0.130023         1.000000   \n",
      "parking            0.037466  0.051497         0.067864         0.159173   \n",
      "prefarea           0.160897  0.228083        -0.059411         0.117382   \n",
      "furnishingstatus   0.118328  0.112831         0.031628         0.150477   \n",
      "\n",
      "                   parking  prefarea  furnishingstatus  \n",
      "area              0.360774  0.219706          0.167420  \n",
      "bedrooms          0.139270  0.079023          0.123244  \n",
      "bathrooms         0.177496  0.063472          0.143559  \n",
      "stories           0.045547  0.044425          0.104672  \n",
      "mainroad          0.204433  0.199876          0.156726  \n",
      "guestroom         0.037466  0.160897          0.118328  \n",
      "basement          0.051497  0.228083          0.112831  \n",
      "hotwaterheating   0.067864 -0.059411          0.031628  \n",
      "airconditioning   0.159173  0.117382          0.150477  \n",
      "parking           1.000000  0.091627          0.177539  \n",
      "prefarea          0.091627  1.000000          0.107686  \n",
      "furnishingstatus  0.177539  0.107686          1.000000  \n"
     ]
    }
   ],
   "source": [
    "# investigating Colinearity:\n",
    "# Calculate the correlation matrix\n",
    "df_cor = df.copy()\n",
    "params = df_cor.columns.tolist()\n",
    "params.remove('price')\n",
    "paramers = df_cor[params]\n",
    "paramers.head()\n",
    "correlation_matrix = paramers.corr()\n",
    "\n",
    "# Visualize the correlation matrix (Heatmap)\n",
    "plt.figure(figsize=(8, 6))\n",
    "sns.heatmap(correlation_matrix, annot=True, cmap='coolwarm', fmt=\".2f\")\n",
    "plt.title(\"Correlation Matrix\")\n",
    "plt.show()\n",
    "\n",
    "# Print the correlation matrix\n",
    "print(correlation_matrix)"
   ]
  },
  {
   "cell_type": "code",
   "execution_count": 18,
   "metadata": {},
   "outputs": [],
   "source": [
    "# Feature engineering: Adding new features\n",
    "# Adding a new feature 'bedroom_per_stories'\n",
    "#df['bedroom_per_stories'] = df['bedrooms'] / df['stories']"
   ]
  },
  {
   "cell_type": "code",
   "execution_count": 19,
   "metadata": {},
   "outputs": [],
   "source": [
    "# # Feature engineering: PCA\n",
    "# # Scaling the numerical features\n",
    "# PCA_df = df[['price', 'area']]\n",
    "# scaler = StandardScaler()\n",
    "# df_scaled = scaler.fit_transform(PCA_df)\n",
    "# df_scaled = pd.DataFrame(data=df_scaled, columns=['price', 'area'])\n",
    "# df = df.drop(columns=['price', 'area'])\n",
    "# df_scaled_all = pd.concat([df_scaled, df], axis=1)\n",
    "# df_scaled_X = df_scaled_all.drop(columns=['price'])\n",
    "\n",
    "# pca = PCA(n_components=3)\n",
    "# PCA_df_scaled_arr = pca.fit_transform(df_scaled_X)\n",
    "\n",
    "# PCAs = []\n",
    "\n",
    "# for i in range(PCA_df_scaled_arr.shape[1]):\n",
    "#     PCAs.append(f'PCA{i+1}')\n",
    "    \n",
    "# PCA_df_scaled = pd.DataFrame(data=PCA_df_scaled_arr, columns=PCAs)\n",
    "# PCA_df_scaled"
   ]
  },
  {
   "cell_type": "code",
   "execution_count": 20,
   "metadata": {},
   "outputs": [],
   "source": [
    "# # Figuring out the best features\n",
    "# # ... (PCA code from previous examples) ...\n",
    "\n",
    "# explained_variance_ratio = pca.explained_variance_ratio_\n",
    "# cumulative_variance = explained_variance_ratio.cumsum()\n",
    "\n",
    "# # Scree Plot\n",
    "# plt.figure(figsize=(8, 6))\n",
    "# plt.plot(range(1, len(explained_variance_ratio) + 1), explained_variance_ratio, marker='o')\n",
    "# plt.xlabel('Principal Component')\n",
    "# plt.ylabel('Explained Variance Ratio')\n",
    "# plt.title('Scree Plot')\n",
    "# plt.show()\n",
    "\n",
    "# # Cumulative Explained Variance Plot\n",
    "# plt.figure(figsize=(8, 6))\n",
    "# plt.plot(range(1, len(cumulative_variance) + 1), cumulative_variance, marker='o')\n",
    "# plt.xlabel('Number of Principal Components')\n",
    "# plt.ylabel('Cumulative Explained Variance')\n",
    "# plt.title('Cumulative Explained Variance')\n",
    "# plt.show()\n",
    "\n",
    "# # Example: Keep components explaining at least 90% of the variance\n",
    "# n_components = np.argmax(cumulative_variance >= 0.90) + 1  # +1 for 1-based indexing\n",
    "# print(f\"Number of components to keep for 90% variance: {n_components}\")\n",
    "# pca_90 = PCA(n_components=0.90) # directly specify the variance in the PCA call\n",
    "# X_pca_90 = pca_90.fit_transform(df_scaled_X)"
   ]
  },
  {
   "cell_type": "code",
   "execution_count": 21,
   "metadata": {},
   "outputs": [],
   "source": [
    "# Feature engineering: Regularization\n",
    "# Scaling the numerical features\n",
    "Scale_df = df[['price', 'area']]\n",
    "scaler = StandardScaler()\n",
    "df_scaled = scaler.fit_transform(Scale_df)\n",
    "df_scaled = pd.DataFrame(data=df_scaled, columns=['price', 'area'])\n",
    "df = df.drop(columns=['price', 'area'])\n",
    "df_scaled_all = pd.concat([df_scaled, df], axis=1)\n",
    "df_scaled_X = df_scaled_all.drop(columns=['price'])\n",
    "\n",
    "X_scaled = df_scaled_X\n",
    "y = df_scaled_all['price']\n",
    "\n",
    "# # Regularization using Lasso1\n",
    "# lasso = Lasso(alpha=0.3)  # Tune alpha! Start with a small value and increase if needed.\n",
    "# lasso.fit(X, y)\n",
    "\n",
    "# # Regularization using Ridge\n",
    "# ridge = Ridge(alpha=1.0)  # Tune alpha!\n",
    "# ridge.fit(X, y)"
   ]
  },
  {
   "cell_type": "code",
   "execution_count": 22,
   "metadata": {},
   "outputs": [
    {
     "name": "stdout",
     "output_type": "stream",
     "text": [
      "R-squared of Univariate Linear Regression: 0.33649906166120647\n",
      "Mean Squared Error of Univariate Linear Regression: 0.6635009383387935\n"
     ]
    }
   ],
   "source": [
    "#Univariate Linear Regression\n",
    "\n",
    "model = LinearRegression()\n",
    "model.fit(X_scaled[['area']], y)\n",
    "y_pred = model.predict(X_scaled[['area']])\n",
    "\n",
    "r2 = r2_score(y, y_pred)\n",
    "print(f\"R-squared of Univariate Linear Regression: {r2}\")\n",
    "\n",
    "mse = mean_squared_error(y, y_pred)\n",
    "print(f\"Mean Squared Error of Univariate Linear Regression: {mse}\")"
   ]
  },
  {
   "cell_type": "code",
   "execution_count": 23,
   "metadata": {},
   "outputs": [
    {
     "name": "stdout",
     "output_type": "stream",
     "text": [
      "R-squared of Multivariate Linear Regression: 0.7005416693434587\n",
      "Mean Squared Error of Multivariate Linear Regression: 0.2994583306565412\n"
     ]
    }
   ],
   "source": [
    "#Multivariate Linear Regression\n",
    "\n",
    "model = LinearRegression()\n",
    "model.fit(X_scaled, y)\n",
    "y_pred = model.predict(X_scaled)\n",
    "\n",
    "r2 = r2_score(y, y_pred)\n",
    "print(f\"R-squared of Multivariate Linear Regression: {r2}\")\n",
    "\n",
    "mse = mean_squared_error(y, y_pred)\n",
    "print(f\"Mean Squared Error of Multivariate Linear Regression: {mse}\")"
   ]
  },
  {
   "cell_type": "code",
   "execution_count": 24,
   "metadata": {},
   "outputs": [],
   "source": [
    "#polynomial linear regression\n",
    "def poly_nomial_regression(X, y, degree):\n",
    "    poly = PolynomialFeatures(degree=degree, include_bias=False) # include_bias=False to avoid adding an intercept column of 1\n",
    "    X_poly = poly.fit_transform(X)\n",
    "    model.fit(X_poly, y)\n",
    "    y_pred = model.predict(X_poly)\n",
    "    r2 = r2_score(y, y_pred)\n",
    "    mse = mean_squared_error(y, y_pred)\n",
    "    return r2, mse"
   ]
  },
  {
   "cell_type": "code",
   "execution_count": 25,
   "metadata": {},
   "outputs": [
    {
     "name": "stdout",
     "output_type": "stream",
     "text": [
      "r2 for poly nomial reg: 0.767171391508777 \n",
      " mse for poly nomial reg: 0.23282860849122294\n",
      "r2 for poly nomial reg: 0.8875767732638141 \n",
      " mse for poly nomial reg: 0.11242322673618584\n",
      "r2 for poly nomial reg: 0.9786106014086782 \n",
      " mse for poly nomial reg: 0.021389398591321798\n",
      "r2 for poly nomial reg: 0.983357236121431 \n",
      " mse for poly nomial reg: 0.01664276387856903\n"
     ]
    }
   ],
   "source": [
    "for degree in range(2, 6):\n",
    "    print(\"r2 for poly nomial reg:\", poly_nomial_regression(X_scaled, y, degree)[0], \"\\n\", \"mse for poly nomial reg:\", poly_nomial_regression(X_scaled, y, degree)[1])"
   ]
  },
  {
   "cell_type": "code",
   "execution_count": 26,
   "metadata": {},
   "outputs": [],
   "source": [
    "#polynomial linear regression with Regularization with Lasso\n",
    "def poly_nomial_LassoReg(X, y, degree, alpha):\n",
    "    poly = PolynomialFeatures(degree=degree, include_bias=False) # include_bias=False to avoid adding an intercept column of 1\n",
    "    X_poly = poly.fit_transform(X)\n",
    "    lasso = Lasso(alpha=alpha)  # Tune alpha! Start with a small value and increase if needed.\n",
    "    lasso.fit(X_poly, y)\n",
    "    y_pred = lasso.predict(X_poly)\n",
    "    r2 = r2_score(y, y_pred)\n",
    "    mse = mean_squared_error(y, y_pred)\n",
    "    return r2, mse"
   ]
  },
  {
   "cell_type": "code",
   "execution_count": 27,
   "metadata": {},
   "outputs": [
    {
     "name": "stdout",
     "output_type": "stream",
     "text": [
      "r2 for poly nomial reg with degree: 2, and alpha: 0.05: 0.6677121801154197 \n",
      " mse for poly nomial reg with degree: 2, and alpha: 0.05: 0.33228781988458034\n",
      "r2 for poly nomial reg with degree: 2, and alpha: 0.1: 0.6474390478619874 \n",
      " mse for poly nomial reg with degree: 2, and alpha: 0.1: 0.3525609521380127\n",
      "r2 for poly nomial reg with degree: 2, and alpha: 0.3: 0.5538724941904136 \n",
      " mse for poly nomial reg with degree: 2, and alpha: 0.3: 0.4461275058095863\n",
      "r2 for poly nomial reg with degree: 2, and alpha: 0.5: 0.48013222590179816 \n",
      " mse for poly nomial reg with degree: 2, and alpha: 0.5: 0.5198677740982018\n",
      "r2 for poly nomial reg with degree: 2, and alpha: 0.7: 0.39758389210657874 \n",
      " mse for poly nomial reg with degree: 2, and alpha: 0.7: 0.6024161078934213\n",
      "r2 for poly nomial reg with degree: 2, and alpha: 1.0: 0.31332100706552324 \n",
      " mse for poly nomial reg with degree: 2, and alpha: 1.0: 0.6866789929344768\n",
      "r2 for poly nomial reg with degree: 3, and alpha: 0.05: 0.680534029953254 \n",
      " mse for poly nomial reg with degree: 3, and alpha: 0.05: 0.31946597004674604\n",
      "r2 for poly nomial reg with degree: 3, and alpha: 0.1: 0.6473565580854308 \n",
      " mse for poly nomial reg with degree: 3, and alpha: 0.1: 0.3526434419145692\n",
      "r2 for poly nomial reg with degree: 3, and alpha: 0.3: 0.5914875469297746 \n",
      " mse for poly nomial reg with degree: 3, and alpha: 0.3: 0.40851245307022543\n",
      "r2 for poly nomial reg with degree: 3, and alpha: 0.5: 0.5680199400123295 \n",
      " mse for poly nomial reg with degree: 3, and alpha: 0.5: 0.43198005998767053\n",
      "r2 for poly nomial reg with degree: 3, and alpha: 0.7: 0.5427397296004461 \n",
      " mse for poly nomial reg with degree: 3, and alpha: 0.7: 0.4572602703995538\n",
      "r2 for poly nomial reg with degree: 3, and alpha: 1.0: 0.49614614020242587 \n",
      " mse for poly nomial reg with degree: 3, and alpha: 1.0: 0.5038538597975741\n"
     ]
    },
    {
     "name": "stderr",
     "output_type": "stream",
     "text": [
      "/opt/miniconda3/lib/python3.12/site-packages/sklearn/linear_model/_coordinate_descent.py:695: ConvergenceWarning: Objective did not converge. You might want to increase the number of iterations, check the scale of the features or consider increasing regularisation. Duality gap: 3.239e+00, tolerance: 5.450e-02\n",
      "  model = cd_fast.enet_coordinate_descent(\n",
      "/opt/miniconda3/lib/python3.12/site-packages/sklearn/linear_model/_coordinate_descent.py:695: ConvergenceWarning: Objective did not converge. You might want to increase the number of iterations, check the scale of the features or consider increasing regularisation. Duality gap: 3.239e+00, tolerance: 5.450e-02\n",
      "  model = cd_fast.enet_coordinate_descent(\n"
     ]
    },
    {
     "name": "stdout",
     "output_type": "stream",
     "text": [
      "r2 for poly nomial reg with degree: 4, and alpha: 0.05: 0.7371880227889964 \n",
      " mse for poly nomial reg with degree: 4, and alpha: 0.05: 0.2628119772110036\n"
     ]
    },
    {
     "name": "stderr",
     "output_type": "stream",
     "text": [
      "/opt/miniconda3/lib/python3.12/site-packages/sklearn/linear_model/_coordinate_descent.py:695: ConvergenceWarning: Objective did not converge. You might want to increase the number of iterations, check the scale of the features or consider increasing regularisation. Duality gap: 3.903e-01, tolerance: 5.450e-02\n",
      "  model = cd_fast.enet_coordinate_descent(\n",
      "/opt/miniconda3/lib/python3.12/site-packages/sklearn/linear_model/_coordinate_descent.py:695: ConvergenceWarning: Objective did not converge. You might want to increase the number of iterations, check the scale of the features or consider increasing regularisation. Duality gap: 3.903e-01, tolerance: 5.450e-02\n",
      "  model = cd_fast.enet_coordinate_descent(\n"
     ]
    },
    {
     "name": "stdout",
     "output_type": "stream",
     "text": [
      "r2 for poly nomial reg with degree: 4, and alpha: 0.1: 0.6932261377857517 \n",
      " mse for poly nomial reg with degree: 4, and alpha: 0.1: 0.3067738622142483\n",
      "r2 for poly nomial reg with degree: 4, and alpha: 0.3: 0.6059555102177232 \n",
      " mse for poly nomial reg with degree: 4, and alpha: 0.3: 0.39404448978227685\n",
      "r2 for poly nomial reg with degree: 4, and alpha: 0.5: 0.5687112224244141 \n",
      " mse for poly nomial reg with degree: 4, and alpha: 0.5: 0.4312887775755859\n",
      "r2 for poly nomial reg with degree: 4, and alpha: 0.7: 0.5448911650201667 \n",
      " mse for poly nomial reg with degree: 4, and alpha: 0.7: 0.4551088349798334\n",
      "r2 for poly nomial reg with degree: 4, and alpha: 1.0: 0.514113055001872 \n",
      " mse for poly nomial reg with degree: 4, and alpha: 1.0: 0.48588694499812796\n"
     ]
    },
    {
     "name": "stderr",
     "output_type": "stream",
     "text": [
      "/opt/miniconda3/lib/python3.12/site-packages/sklearn/linear_model/_coordinate_descent.py:695: ConvergenceWarning: Objective did not converge. You might want to increase the number of iterations, check the scale of the features or consider increasing regularisation. Duality gap: 6.575e+01, tolerance: 5.450e-02\n",
      "  model = cd_fast.enet_coordinate_descent(\n",
      "/opt/miniconda3/lib/python3.12/site-packages/sklearn/linear_model/_coordinate_descent.py:695: ConvergenceWarning: Objective did not converge. You might want to increase the number of iterations, check the scale of the features or consider increasing regularisation. Duality gap: 6.575e+01, tolerance: 5.450e-02\n",
      "  model = cd_fast.enet_coordinate_descent(\n"
     ]
    },
    {
     "name": "stdout",
     "output_type": "stream",
     "text": [
      "r2 for poly nomial reg with degree: 5, and alpha: 0.05: 0.7846394280364657 \n",
      " mse for poly nomial reg with degree: 5, and alpha: 0.05: 0.21536057196353425\n"
     ]
    },
    {
     "name": "stderr",
     "output_type": "stream",
     "text": [
      "/opt/miniconda3/lib/python3.12/site-packages/sklearn/linear_model/_coordinate_descent.py:695: ConvergenceWarning: Objective did not converge. You might want to increase the number of iterations, check the scale of the features or consider increasing regularisation. Duality gap: 6.166e+01, tolerance: 5.450e-02\n",
      "  model = cd_fast.enet_coordinate_descent(\n",
      "/opt/miniconda3/lib/python3.12/site-packages/sklearn/linear_model/_coordinate_descent.py:695: ConvergenceWarning: Objective did not converge. You might want to increase the number of iterations, check the scale of the features or consider increasing regularisation. Duality gap: 6.166e+01, tolerance: 5.450e-02\n",
      "  model = cd_fast.enet_coordinate_descent(\n"
     ]
    },
    {
     "name": "stdout",
     "output_type": "stream",
     "text": [
      "r2 for poly nomial reg with degree: 5, and alpha: 0.1: 0.7520829358625597 \n",
      " mse for poly nomial reg with degree: 5, and alpha: 0.1: 0.24791706413744033\n"
     ]
    },
    {
     "name": "stderr",
     "output_type": "stream",
     "text": [
      "/opt/miniconda3/lib/python3.12/site-packages/sklearn/linear_model/_coordinate_descent.py:695: ConvergenceWarning: Objective did not converge. You might want to increase the number of iterations, check the scale of the features or consider increasing regularisation. Duality gap: 4.134e+00, tolerance: 5.450e-02\n",
      "  model = cd_fast.enet_coordinate_descent(\n",
      "/opt/miniconda3/lib/python3.12/site-packages/sklearn/linear_model/_coordinate_descent.py:695: ConvergenceWarning: Objective did not converge. You might want to increase the number of iterations, check the scale of the features or consider increasing regularisation. Duality gap: 4.134e+00, tolerance: 5.450e-02\n",
      "  model = cd_fast.enet_coordinate_descent(\n"
     ]
    },
    {
     "name": "stdout",
     "output_type": "stream",
     "text": [
      "r2 for poly nomial reg with degree: 5, and alpha: 0.3: 0.6788180525051835 \n",
      " mse for poly nomial reg with degree: 5, and alpha: 0.3: 0.3211819474948166\n",
      "r2 for poly nomial reg with degree: 5, and alpha: 0.5: 0.6323784949898856 \n",
      " mse for poly nomial reg with degree: 5, and alpha: 0.5: 0.3676215050101143\n",
      "r2 for poly nomial reg with degree: 5, and alpha: 0.7: 0.6070845643188889 \n",
      " mse for poly nomial reg with degree: 5, and alpha: 0.7: 0.39291543568111115\n",
      "r2 for poly nomial reg with degree: 5, and alpha: 1.0: 0.5670234473631217 \n",
      " mse for poly nomial reg with degree: 5, and alpha: 1.0: 0.43297655263687823\n"
     ]
    }
   ],
   "source": [
    "for degree in range(2, 6):\n",
    "    for alpha in [0.05, 0.1, 0.3, 0.5, 0.7, 1.0]:\n",
    "        print(f'r2 for poly nomial reg with degree: {degree}, and alpha: {alpha}:', poly_nomial_LassoReg(X_scaled, y, degree, alpha)[0], \"\\n\", f'mse for poly nomial reg with degree: {degree}, and alpha: {alpha}:', poly_nomial_LassoReg(X_scaled, y, degree, alpha)[1])\n"
   ]
  },
  {
   "cell_type": "code",
   "execution_count": 28,
   "metadata": {},
   "outputs": [],
   "source": [
    "#polynomial linear regression with Regularization with Ridge\n",
    "def poly_nomial_RidgeReg(X, y, degree, alpha):\n",
    "    poly = PolynomialFeatures(degree=degree, include_bias=False) # include_bias=False to avoid adding an intercept column of 1\n",
    "    X_poly = poly.fit_transform(X)\n",
    "    ridge = Ridge(alpha=alpha)\n",
    "    ridge.fit(X_poly, y)\n",
    "    y_pred = ridge.predict(X_poly)\n",
    "    r2 = r2_score(y, y_pred)\n",
    "    mse = mean_squared_error(y, y_pred)\n",
    "    return r2, mse"
   ]
  },
  {
   "cell_type": "code",
   "execution_count": 29,
   "metadata": {},
   "outputs": [
    {
     "name": "stdout",
     "output_type": "stream",
     "text": [
      "r2 for poly nomial reg with degree: 2, and alpha: 0.05: 0.7670933012546057 \n",
      " mse for poly nomial reg with degree: 2, and alpha: 0.05: 0.23290669874539421\n",
      "r2 for poly nomial reg with degree: 2, and alpha: 0.1: 0.7669322640572142 \n",
      " mse for poly nomial reg with degree: 2, and alpha: 0.1: 0.23306773594278588\n",
      "r2 for poly nomial reg with degree: 2, and alpha: 0.3: 0.7661443122334802 \n",
      " mse for poly nomial reg with degree: 2, and alpha: 0.3: 0.2338556877665198\n",
      "r2 for poly nomial reg with degree: 2, and alpha: 0.5: 0.7654002463444294 \n",
      " mse for poly nomial reg with degree: 2, and alpha: 0.5: 0.23459975365557056\n",
      "r2 for poly nomial reg with degree: 2, and alpha: 0.7: 0.7647292801405436 \n",
      " mse for poly nomial reg with degree: 2, and alpha: 0.7: 0.23527071985945638\n",
      "r2 for poly nomial reg with degree: 2, and alpha: 1.0: 0.7638312529329055 \n",
      " mse for poly nomial reg with degree: 2, and alpha: 1.0: 0.23616874706709443\n",
      "r2 for poly nomial reg with degree: 3, and alpha: 0.05: 0.882519613530028 \n",
      " mse for poly nomial reg with degree: 3, and alpha: 0.05: 0.1174803864699721\n",
      "r2 for poly nomial reg with degree: 3, and alpha: 0.1: 0.879957980525589 \n",
      " mse for poly nomial reg with degree: 3, and alpha: 0.1: 0.12004201947441094\n",
      "r2 for poly nomial reg with degree: 3, and alpha: 0.3: 0.8741116974523405 \n",
      " mse for poly nomial reg with degree: 3, and alpha: 0.3: 0.1258883025476595\n",
      "r2 for poly nomial reg with degree: 3, and alpha: 0.5: 0.8701118044080727 \n",
      " mse for poly nomial reg with degree: 3, and alpha: 0.5: 0.12988819559192735\n",
      "r2 for poly nomial reg with degree: 3, and alpha: 0.7: 0.8668837562300122 \n",
      " mse for poly nomial reg with degree: 3, and alpha: 0.7: 0.13311624376998776\n",
      "r2 for poly nomial reg with degree: 3, and alpha: 1.0: 0.8629165765865849 \n",
      " mse for poly nomial reg with degree: 3, and alpha: 1.0: 0.13708342341341506\n",
      "r2 for poly nomial reg with degree: 4, and alpha: 0.05: 0.9640897840932537 \n",
      " mse for poly nomial reg with degree: 4, and alpha: 0.05: 0.03591021590674629\n",
      "r2 for poly nomial reg with degree: 4, and alpha: 0.1: 0.9602238221283655 \n",
      " mse for poly nomial reg with degree: 4, and alpha: 0.1: 0.039776177871634434\n",
      "r2 for poly nomial reg with degree: 4, and alpha: 0.3: 0.9512195899969949 \n",
      " mse for poly nomial reg with degree: 4, and alpha: 0.3: 0.048780410003005134\n",
      "r2 for poly nomial reg with degree: 4, and alpha: 0.5: 0.9455973273000383 \n",
      " mse for poly nomial reg with degree: 4, and alpha: 0.5: 0.05440267269996166\n",
      "r2 for poly nomial reg with degree: 4, and alpha: 0.7: 0.9414066844846593 \n",
      " mse for poly nomial reg with degree: 4, and alpha: 0.7: 0.05859331551534075\n",
      "r2 for poly nomial reg with degree: 4, and alpha: 1.0: 0.9365977723684216 \n",
      " mse for poly nomial reg with degree: 4, and alpha: 1.0: 0.06340222763157846\n",
      "r2 for poly nomial reg with degree: 5, and alpha: 0.05: 0.9775219640739842 \n",
      " mse for poly nomial reg with degree: 5, and alpha: 0.05: 0.022478035926015875\n",
      "r2 for poly nomial reg with degree: 5, and alpha: 0.1: 0.9758858270846721 \n",
      " mse for poly nomial reg with degree: 5, and alpha: 0.1: 0.024114172915327935\n",
      "r2 for poly nomial reg with degree: 5, and alpha: 0.3: 0.9727666222009936 \n",
      " mse for poly nomial reg with degree: 5, and alpha: 0.3: 0.027233377799006375\n",
      "r2 for poly nomial reg with degree: 5, and alpha: 0.5: 0.9709529599995951 \n",
      " mse for poly nomial reg with degree: 5, and alpha: 0.5: 0.029047040000404912\n",
      "r2 for poly nomial reg with degree: 5, and alpha: 0.7: 0.9695669929971421 \n",
      " mse for poly nomial reg with degree: 5, and alpha: 0.7: 0.03043300700285792\n",
      "r2 for poly nomial reg with degree: 5, and alpha: 1.0: 0.9678835155761304 \n",
      " mse for poly nomial reg with degree: 5, and alpha: 1.0: 0.03211648442386962\n"
     ]
    }
   ],
   "source": [
    "for degree in range(2, 6):\n",
    "    for alpha in [.05, 0.1, 0.3, 0.5, 0.7, 1.0]:\n",
    "        print(f'r2 for poly nomial reg with degree: {degree}, and alpha: {alpha}:', poly_nomial_RidgeReg(X_scaled, y, degree, alpha)[0], \"\\n\", f'mse for poly nomial reg with degree: {degree}, and alpha: {alpha}:', poly_nomial_RidgeReg(X_scaled, y, degree, alpha)[1])\n"
   ]
  },
  {
   "cell_type": "code",
   "execution_count": 30,
   "metadata": {},
   "outputs": [],
   "source": [
    "#polynomial linear regression with Regularization with ElasticNet\n",
    "def poly_nomial_ElasticNet(X, y, degree, alpha):\n",
    "    poly = PolynomialFeatures(degree=degree, include_bias=False) # include_bias=False to avoid adding an intercept column of 1\n",
    "    X_poly = poly.fit_transform(X)\n",
    "    elastic_net = ElasticNet(alpha=alpha, l1_ratio=0.5)\n",
    "    elastic_net.fit(X_poly, y)\n",
    "    y_pred = elastic_net.predict(X_poly)\n",
    "    r2 = r2_score(y, y_pred)\n",
    "    mse = mean_squared_error(y, y_pred)\n",
    "    return r2, mse"
   ]
  },
  {
   "cell_type": "code",
   "execution_count": 31,
   "metadata": {},
   "outputs": [
    {
     "name": "stdout",
     "output_type": "stream",
     "text": [
      "r2 for poly nomial reg with degree: 2, and alpha: 0.05: 0.6848578193915399 \n",
      " mse for poly nomial reg with degree: 2, and alpha: 0.05: 0.3151421806084601\n",
      "r2 for poly nomial reg with degree: 2, and alpha: 0.1: 0.6665689345762802 \n",
      " mse for poly nomial reg with degree: 2, and alpha: 0.1: 0.33343106542371986\n",
      "r2 for poly nomial reg with degree: 2, and alpha: 0.3: 0.624788016271923 \n",
      " mse for poly nomial reg with degree: 2, and alpha: 0.3: 0.375211983728077\n",
      "r2 for poly nomial reg with degree: 2, and alpha: 0.5: 0.5779514149172583 \n",
      " mse for poly nomial reg with degree: 2, and alpha: 0.5: 0.4220485850827417\n",
      "r2 for poly nomial reg with degree: 2, and alpha: 0.7: 0.5252829574439926 \n",
      " mse for poly nomial reg with degree: 2, and alpha: 0.7: 0.4747170425560074\n",
      "r2 for poly nomial reg with degree: 2, and alpha: 1.0: 0.47313828863021157 \n",
      " mse for poly nomial reg with degree: 2, and alpha: 1.0: 0.5268617113697884\n",
      "r2 for poly nomial reg with degree: 3, and alpha: 0.05: 0.7204147923179738 \n",
      " mse for poly nomial reg with degree: 3, and alpha: 0.05: 0.27958520768202616\n",
      "r2 for poly nomial reg with degree: 3, and alpha: 0.1: 0.6791488911802699 \n",
      " mse for poly nomial reg with degree: 3, and alpha: 0.1: 0.32085110881973017\n",
      "r2 for poly nomial reg with degree: 3, and alpha: 0.3: 0.6247723806969796 \n",
      " mse for poly nomial reg with degree: 3, and alpha: 0.3: 0.3752276193030204\n",
      "r2 for poly nomial reg with degree: 3, and alpha: 0.5: 0.5964276891977788 \n",
      " mse for poly nomial reg with degree: 3, and alpha: 0.5: 0.4035723108022212\n",
      "r2 for poly nomial reg with degree: 3, and alpha: 0.7: 0.5846528166130395 \n",
      " mse for poly nomial reg with degree: 3, and alpha: 0.7: 0.41534718338696053\n",
      "r2 for poly nomial reg with degree: 3, and alpha: 1.0: 0.56729457284378 \n",
      " mse for poly nomial reg with degree: 3, and alpha: 1.0: 0.43270542715621996\n"
     ]
    },
    {
     "name": "stderr",
     "output_type": "stream",
     "text": [
      "/opt/miniconda3/lib/python3.12/site-packages/sklearn/linear_model/_coordinate_descent.py:695: ConvergenceWarning: Objective did not converge. You might want to increase the number of iterations, check the scale of the features or consider increasing regularisation. Duality gap: 4.942e+00, tolerance: 5.450e-02\n",
      "  model = cd_fast.enet_coordinate_descent(\n",
      "/opt/miniconda3/lib/python3.12/site-packages/sklearn/linear_model/_coordinate_descent.py:695: ConvergenceWarning: Objective did not converge. You might want to increase the number of iterations, check the scale of the features or consider increasing regularisation. Duality gap: 4.942e+00, tolerance: 5.450e-02\n",
      "  model = cd_fast.enet_coordinate_descent(\n"
     ]
    },
    {
     "name": "stdout",
     "output_type": "stream",
     "text": [
      "r2 for poly nomial reg with degree: 4, and alpha: 0.05: 0.7677109046633661 \n",
      " mse for poly nomial reg with degree: 4, and alpha: 0.05: 0.23228909533663386\n"
     ]
    },
    {
     "name": "stderr",
     "output_type": "stream",
     "text": [
      "/opt/miniconda3/lib/python3.12/site-packages/sklearn/linear_model/_coordinate_descent.py:695: ConvergenceWarning: Objective did not converge. You might want to increase the number of iterations, check the scale of the features or consider increasing regularisation. Duality gap: 5.830e+00, tolerance: 5.450e-02\n",
      "  model = cd_fast.enet_coordinate_descent(\n",
      "/opt/miniconda3/lib/python3.12/site-packages/sklearn/linear_model/_coordinate_descent.py:695: ConvergenceWarning: Objective did not converge. You might want to increase the number of iterations, check the scale of the features or consider increasing regularisation. Duality gap: 5.830e+00, tolerance: 5.450e-02\n",
      "  model = cd_fast.enet_coordinate_descent(\n"
     ]
    },
    {
     "name": "stdout",
     "output_type": "stream",
     "text": [
      "r2 for poly nomial reg with degree: 4, and alpha: 0.1: 0.7363156431596725 \n",
      " mse for poly nomial reg with degree: 4, and alpha: 0.1: 0.2636843568403275\n",
      "r2 for poly nomial reg with degree: 4, and alpha: 0.3: 0.6645161590260776 \n",
      " mse for poly nomial reg with degree: 4, and alpha: 0.3: 0.33548384097392236\n",
      "r2 for poly nomial reg with degree: 4, and alpha: 0.5: 0.6215314738037548 \n",
      " mse for poly nomial reg with degree: 4, and alpha: 0.5: 0.37846852619624516\n",
      "r2 for poly nomial reg with degree: 4, and alpha: 0.7: 0.5886853356386337 \n",
      " mse for poly nomial reg with degree: 4, and alpha: 0.7: 0.4113146643613663\n",
      "r2 for poly nomial reg with degree: 4, and alpha: 1.0: 0.5682677225410793 \n",
      " mse for poly nomial reg with degree: 4, and alpha: 1.0: 0.43173227745892073\n"
     ]
    },
    {
     "name": "stderr",
     "output_type": "stream",
     "text": [
      "/opt/miniconda3/lib/python3.12/site-packages/sklearn/linear_model/_coordinate_descent.py:695: ConvergenceWarning: Objective did not converge. You might want to increase the number of iterations, check the scale of the features or consider increasing regularisation. Duality gap: 5.857e+01, tolerance: 5.450e-02\n",
      "  model = cd_fast.enet_coordinate_descent(\n",
      "/opt/miniconda3/lib/python3.12/site-packages/sklearn/linear_model/_coordinate_descent.py:695: ConvergenceWarning: Objective did not converge. You might want to increase the number of iterations, check the scale of the features or consider increasing regularisation. Duality gap: 5.857e+01, tolerance: 5.450e-02\n",
      "  model = cd_fast.enet_coordinate_descent(\n"
     ]
    },
    {
     "name": "stdout",
     "output_type": "stream",
     "text": [
      "r2 for poly nomial reg with degree: 5, and alpha: 0.05: 0.8161837007837609 \n",
      " mse for poly nomial reg with degree: 5, and alpha: 0.05: 0.18381629921623915\n"
     ]
    },
    {
     "name": "stderr",
     "output_type": "stream",
     "text": [
      "/opt/miniconda3/lib/python3.12/site-packages/sklearn/linear_model/_coordinate_descent.py:695: ConvergenceWarning: Objective did not converge. You might want to increase the number of iterations, check the scale of the features or consider increasing regularisation. Duality gap: 6.606e+01, tolerance: 5.450e-02\n",
      "  model = cd_fast.enet_coordinate_descent(\n",
      "/opt/miniconda3/lib/python3.12/site-packages/sklearn/linear_model/_coordinate_descent.py:695: ConvergenceWarning: Objective did not converge. You might want to increase the number of iterations, check the scale of the features or consider increasing regularisation. Duality gap: 6.606e+01, tolerance: 5.450e-02\n",
      "  model = cd_fast.enet_coordinate_descent(\n"
     ]
    },
    {
     "name": "stdout",
     "output_type": "stream",
     "text": [
      "r2 for poly nomial reg with degree: 5, and alpha: 0.1: 0.7842271088158078 \n",
      " mse for poly nomial reg with degree: 5, and alpha: 0.1: 0.21577289118419216\n"
     ]
    },
    {
     "name": "stderr",
     "output_type": "stream",
     "text": [
      "/opt/miniconda3/lib/python3.12/site-packages/sklearn/linear_model/_coordinate_descent.py:695: ConvergenceWarning: Objective did not converge. You might want to increase the number of iterations, check the scale of the features or consider increasing regularisation. Duality gap: 8.052e+00, tolerance: 5.450e-02\n",
      "  model = cd_fast.enet_coordinate_descent(\n",
      "/opt/miniconda3/lib/python3.12/site-packages/sklearn/linear_model/_coordinate_descent.py:695: ConvergenceWarning: Objective did not converge. You might want to increase the number of iterations, check the scale of the features or consider increasing regularisation. Duality gap: 8.052e+00, tolerance: 5.450e-02\n",
      "  model = cd_fast.enet_coordinate_descent(\n"
     ]
    },
    {
     "name": "stdout",
     "output_type": "stream",
     "text": [
      "r2 for poly nomial reg with degree: 5, and alpha: 0.3: 0.7307948026251994 \n",
      " mse for poly nomial reg with degree: 5, and alpha: 0.3: 0.2692051973748007\n"
     ]
    },
    {
     "name": "stderr",
     "output_type": "stream",
     "text": [
      "/opt/miniconda3/lib/python3.12/site-packages/sklearn/linear_model/_coordinate_descent.py:695: ConvergenceWarning: Objective did not converge. You might want to increase the number of iterations, check the scale of the features or consider increasing regularisation. Duality gap: 7.634e+00, tolerance: 5.450e-02\n",
      "  model = cd_fast.enet_coordinate_descent(\n",
      "/opt/miniconda3/lib/python3.12/site-packages/sklearn/linear_model/_coordinate_descent.py:695: ConvergenceWarning: Objective did not converge. You might want to increase the number of iterations, check the scale of the features or consider increasing regularisation. Duality gap: 7.634e+00, tolerance: 5.450e-02\n",
      "  model = cd_fast.enet_coordinate_descent(\n"
     ]
    },
    {
     "name": "stdout",
     "output_type": "stream",
     "text": [
      "r2 for poly nomial reg with degree: 5, and alpha: 0.5: 0.6958775549509035 \n",
      " mse for poly nomial reg with degree: 5, and alpha: 0.5: 0.30412244504909647\n"
     ]
    },
    {
     "name": "stderr",
     "output_type": "stream",
     "text": [
      "/opt/miniconda3/lib/python3.12/site-packages/sklearn/linear_model/_coordinate_descent.py:695: ConvergenceWarning: Objective did not converge. You might want to increase the number of iterations, check the scale of the features or consider increasing regularisation. Duality gap: 6.884e+00, tolerance: 5.450e-02\n",
      "  model = cd_fast.enet_coordinate_descent(\n",
      "/opt/miniconda3/lib/python3.12/site-packages/sklearn/linear_model/_coordinate_descent.py:695: ConvergenceWarning: Objective did not converge. You might want to increase the number of iterations, check the scale of the features or consider increasing regularisation. Duality gap: 6.884e+00, tolerance: 5.450e-02\n",
      "  model = cd_fast.enet_coordinate_descent(\n"
     ]
    },
    {
     "name": "stdout",
     "output_type": "stream",
     "text": [
      "r2 for poly nomial reg with degree: 5, and alpha: 0.7: 0.6619494848430947 \n",
      " mse for poly nomial reg with degree: 5, and alpha: 0.7: 0.33805051515690526\n",
      "r2 for poly nomial reg with degree: 5, and alpha: 1.0: 0.6319180255841579 \n",
      " mse for poly nomial reg with degree: 5, and alpha: 1.0: 0.3680819744158422\n"
     ]
    }
   ],
   "source": [
    "for degree in range(2, 6):\n",
    "    for alpha in [.05, 0.1, 0.3, 0.5, 0.7, 1.0]:\n",
    "        print(f'r2 for poly nomial reg with degree: {degree}, and alpha: {alpha}:',\n",
    "              poly_nomial_ElasticNet(X_scaled, y, degree, alpha)[0],\n",
    "              \"\\n\", f'mse for poly nomial reg with degree: {degree}, and alpha: {alpha}:',\n",
    "              poly_nomial_ElasticNet(X_scaled, y, degree, alpha)[1])\n"
   ]
  },
  {
   "cell_type": "code",
   "execution_count": null,
   "metadata": {},
   "outputs": [],
   "source": [
    "# K-fold cross-validation for Polynomial Linear Regression\n",
    "def k_fold_cross_validation(X, y, degree):\n",
    "    poly = PolynomialFeatures(degree=degree, include_bias=False) # include_bias=False to avoid adding an intercept column of 1\n",
    "    X_poly = poly.fit_transform(X)\n",
    "    kfold = KFold(n_splits=5, shuffle=True, random_state=42)\n",
    "    r2 = cross_val_score(model, X_poly, y, cv=kfold, scoring='r2')\n",
    "    r2 = r2.mean()\n",
    "    mse = cross_val_score(model, X_poly, y, cv=kfold, scoring='neg_mean_squared_error')\n",
    "    mse = -mse.mean()\n",
    "    return r2, mse"
   ]
  },
  {
   "cell_type": "code",
   "execution_count": 48,
   "metadata": {},
   "outputs": [
    {
     "name": "stdout",
     "output_type": "stream",
     "text": [
      "r2 for poly nomial reg with degree: 2: 0.6011573164741651 \n",
      " mse for poly nomial reg with degree: 2 0.37758600568158496\n",
      "r2 for poly nomial reg with degree: 3: -4.810699975889084 \n",
      " mse for poly nomial reg with degree: 3 5.391172237980134\n",
      "r2 for poly nomial reg with degree: 4: -28296.941818518222 \n",
      " mse for poly nomial reg with degree: 4 26005.385962252192\n",
      "r2 for poly nomial reg with degree: 5: -26224035.98815858 \n",
      " mse for poly nomial reg with degree: 5 36573512.67846569\n"
     ]
    }
   ],
   "source": [
    "for degree in range(2, 6):\n",
    "        print(f'r2 for poly nomial reg with degree: {degree}:',\n",
    "              k_fold_cross_validation(X_scaled, y, degree)[0],\n",
    "              \"\\n\", f'mse for poly nomial reg with degree: {degree}',\n",
    "              k_fold_cross_validation(X_scaled, y, degree)[1])\n"
   ]
  },
  {
   "cell_type": "code",
   "execution_count": 34,
   "metadata": {},
   "outputs": [],
   "source": [
    "# K-fold cross-validation for Polynomial Linear Regression with Regularization with Ridge\n",
    "def k_fold_poly_ridge(X, y, degree, alpha):\n",
    "    poly = PolynomialFeatures(degree=degree, include_bias=False) # include_bias=False to avoid adding an intercept column of 1\n",
    "    X_poly = poly.fit_transform(X)\n",
    "    ridge = Ridge(alpha=alpha)\n",
    "    kfold = KFold(n_splits=5, shuffle=True, random_state=42)\n",
    "    r2 = cross_val_score(ridge, X_poly, y, cv=kfold, scoring='r2')\n",
    "    r2 = r2.mean()\n",
    "    mse = cross_val_score(ridge, X_poly, y, cv=kfold, scoring='neg_mean_squared_error')\n",
    "    mse = -mse.mean()\n",
    "    return r2, mse"
   ]
  },
  {
   "cell_type": "code",
   "execution_count": 35,
   "metadata": {},
   "outputs": [],
   "source": [
    "# Choose the best degree and alpha in polynomial regression with Ridge regularization\n",
    "\n",
    "def best_r2_mse(X, y, degree, alphas):\n",
    "    best_r2 = 0\n",
    "    best_mse = 10000\n",
    "    best_degree_r2 = 0\n",
    "    best_alpha_r2 = 0\n",
    "    best_degree_mse = 0\n",
    "    best_alpha_mse = 0\n",
    "    \n",
    "    for degree in range(2, degree):\n",
    "        for alpha in alphas:\n",
    "            r2 = k_fold_poly_ridge(X, y, degree, alpha)[0]\n",
    "            mse = k_fold_poly_ridge(X, y, degree, alpha)[1]\n",
    "            if r2 > best_r2:\n",
    "                best_r2 = r2\n",
    "                best_degree_r2 = degree\n",
    "                best_alpha_r2 = alpha\n",
    "            if mse < best_mse:\n",
    "                best_mse = mse\n",
    "                best_degree_mse = degree\n",
    "                best_alpha_mse = alpha\n",
    "    \n",
    "    return best_degree_r2, best_alpha_r2, best_r2, best_degree_mse, best_alpha_mse, best_mse\n"
   ]
  },
  {
   "cell_type": "code",
   "execution_count": 36,
   "metadata": {},
   "outputs": [
    {
     "name": "stdout",
     "output_type": "stream",
     "text": [
      "Best degree for R2: 2, Best alpha for R2: 2.0, Best R2: 0.6493136237736744\n",
      "Best degree for MSE: 2, Best alpha for MSE: 2.0, Best MSE: 0.33489627905048336\n"
     ]
    }
   ],
   "source": [
    "alphas = [0.05, 0.1, 0.3, 0.5, 0.7, 1.0 , 1.5, 2.0]\n",
    "best_degree_r2, best_alpha_r2, best_r2, best_degree_mse, best_alpha_mse, best_mse = best_r2_mse(X_scaled, y, 6, alphas)\n",
    "\n",
    "print(f\"Best degree for R2: {best_degree_r2}, Best alpha for R2: {best_alpha_r2}, Best R2: {best_r2}\")\n",
    "print(f\"Best degree for MSE: {best_degree_mse}, Best alpha for MSE: {best_alpha_mse}, Best MSE: {best_mse}\")"
   ]
  },
  {
   "cell_type": "code",
   "execution_count": 37,
   "metadata": {},
   "outputs": [],
   "source": [
    "# K-fold cross-validation for multivariate Linear Regression\n",
    "def k_fold_multi(X, y):\n",
    "    model = LinearRegression()\n",
    "    kfold = KFold(n_splits=5, shuffle=True, random_state=42)\n",
    "    r2 = cross_val_score(model, X, y, cv=kfold, scoring='r2')\n",
    "    r2 = r2.mean()\n",
    "    mse = cross_val_score(model, X, y, cv=kfold, scoring='neg_mean_squared_error')\n",
    "    mse = -mse.mean()\n",
    "    return r2, mse"
   ]
  },
  {
   "cell_type": "code",
   "execution_count": 38,
   "metadata": {},
   "outputs": [
    {
     "name": "stdout",
     "output_type": "stream",
     "text": [
      "R2 for multivariate Linear Regression: 0.672002513131536\n",
      "MSE for multivariate Linear Regression: 0.31928521384595465\n"
     ]
    }
   ],
   "source": [
    "r2 , mse = k_fold_multi(X_scaled, y)\n",
    "print(f\"R2 for multivariate Linear Regression: {r2}\")\n",
    "print(f\"MSE for multivariate Linear Regression: {mse}\")"
   ]
  },
  {
   "cell_type": "code",
   "execution_count": 39,
   "metadata": {},
   "outputs": [],
   "source": [
    "# K-fold cross-validation for multivariate Linear Regression with ridge regularization\n",
    "def k_fold_multi_ridge(X, y, alpha):\n",
    "    model = Ridge(alpha=alpha)\n",
    "    kfold = KFold(n_splits=5, shuffle=True, random_state=42)\n",
    "    r2 = cross_val_score(model, X, y, cv=kfold, scoring='r2')\n",
    "    r2 = r2.mean()\n",
    "    mse = cross_val_score(model, X, y, cv=kfold, scoring='neg_mean_squared_error')\n",
    "    mse = -mse.mean()\n",
    "    return r2, mse"
   ]
  },
  {
   "cell_type": "code",
   "execution_count": 40,
   "metadata": {},
   "outputs": [],
   "source": [
    "# Choose the best degree and alpha in multivariate regression \n",
    "def best_r2_mse_multi(X, y, alphas):\n",
    "    best_r2 = 0\n",
    "    best_mse = 10000\n",
    "    best_alpha_r2 = 0\n",
    "    best_alpha_mse = 0\n",
    "    \n",
    "    for alpha in alphas:\n",
    "        r2 = k_fold_multi_ridge(X, y, alpha)[0]\n",
    "        mse = k_fold_multi_ridge(X, y, alpha)[1]\n",
    "        if r2 > best_r2:\n",
    "            best_r2 = r2\n",
    "            best_alpha_r2 = alpha\n",
    "        if mse < best_mse:\n",
    "            best_mse = mse\n",
    "            best_alpha_mse = alpha\n",
    "    \n",
    "    return best_alpha_r2, best_r2, best_alpha_mse, best_mse"
   ]
  },
  {
   "cell_type": "code",
   "execution_count": 41,
   "metadata": {},
   "outputs": [
    {
     "name": "stdout",
     "output_type": "stream",
     "text": [
      "Best degree for R2: 2, Best alpha for R2: 1.0, Best R2: 0.672640753244142\n",
      "Best degree for MSE: 2, Best alpha for MSE: 1.0, Best MSE: 0.31893123959357494\n"
     ]
    }
   ],
   "source": [
    "alphas = [0.05, 0.1, 0.3, 0.5, 0.7, 1.0]\n",
    "best_alpha_r2, best_r2, best_alpha_mse, best_mse = best_r2_mse_multi(X_scaled, y, alphas)\n",
    "\n",
    "print(f\"Best degree for R2: {best_degree_r2}, Best alpha for R2: {best_alpha_r2}, Best R2: {best_r2}\")\n",
    "print(f\"Best degree for MSE: {best_degree_mse}, Best alpha for MSE: {best_alpha_mse}, Best MSE: {best_mse}\")"
   ]
  },
  {
   "cell_type": "code",
   "execution_count": 42,
   "metadata": {},
   "outputs": [],
   "source": [
    "def plot_actual_vs_predicted(y, y_pred):\n",
    "    plt.figure(figsize=(8, 6))\n",
    "    sns.scatterplot(x=y, y=y_pred)\n",
    "    plt.plot([y.min(), y.max()], [y.min(), y.max()], color='red', linestyle='--')  # Diagonal line\n",
    "    plt.xlabel('Actual Values')\n",
    "    plt.ylabel('Predicted Values')\n",
    "    plt.title('Actual vs. Predicted Plot')\n",
    "    plt.show()"
   ]
  },
  {
   "cell_type": "code",
   "execution_count": 43,
   "metadata": {},
   "outputs": [
    {
     "data": {
      "image/png": "[encoded data removed]",
      "text/plain": [
       "<Figure size 800x600 with 1 Axes>"
      ]
     },
     "metadata": {},
     "output_type": "display_data"
    }
   ],
   "source": [
    "plot_actual_vs_predicted(y, y_pred)"
   ]
  },
  {
   "cell_type": "code",
   "execution_count": 44,
   "metadata": {},
   "outputs": [],
   "source": [
    "def plot_residuals(y, y_pred):\n",
    "    residuals = y - y_pred\n",
    "    plt.figure(figsize=(8, 6))\n",
    "    sns.histplot(residuals, kde=True)\n",
    "    plt.axvline(x=0, color='red', linestyle='--')  # Add a vertical line at 0\n",
    "    plt.xlabel('Residuals')\n",
    "    plt.ylabel('Frequency')\n",
    "    plt.title('Residuals Plot')\n",
    "    plt.show()"
   ]
  },
  {
   "cell_type": "code",
   "execution_count": 45,
   "metadata": {},
   "outputs": [],
   "source": [
    "def plot_residuals_hist(y, y_pred):\n",
    "    residuals = y - y_pred\n",
    "    plt.figure(figsize=(8, 6))\n",
    "    sns.histplot(residuals, kde=True, bins=20)\n",
    "    plt.xlabel('Residuals')\n",
    "    plt.ylabel('Frequency')\n",
    "    plt.title('Distribution of Residuals')\n",
    "    plt.show()\n"
   ]
  },
  {
   "cell_type": "code",
   "execution_count": null,
   "metadata": {},
   "outputs": [],
   "source": []
  }
 ],
 "metadata": {
  "kernelspec": {
   "display_name": "base",
   "language": "python",
   "name": "python3"
  },
  "language_info": {
   "codemirror_mode": {
    "name": "ipython",
    "version": 3
   },
   "file_extension": ".py",
   "mimetype": "text/x-python",
   "name": "python",
   "nbconvert_exporter": "python",
   "pygments_lexer": "ipython3",
   "version": "3.12.2"
  }
 },
 "nbformat": 4,
 "nbformat_minor": 2
}
